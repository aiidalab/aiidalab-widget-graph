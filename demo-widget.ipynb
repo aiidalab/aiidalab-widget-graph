{
 "cells": [
  {
   "cell_type": "code",
   "execution_count": 1,
   "metadata": {},
   "outputs": [],
   "source": [
    "from aiidalab_widget_graph import GraphWidget"
   ]
  },
  {
   "cell_type": "code",
   "execution_count": 2,
   "metadata": {},
   "outputs": [
    {
     "data": {
      "application/vnd.jupyter.widget-view+json": {
       "model_id": "2dd56995d4784368badd35190a951613",
       "version_major": 2,
       "version_minor": 0
      },
      "text/html": [
       "<p>Failed to display Jupyter Widget of type <code>GraphWidget</code>.</p>\n",
       "<p>\n",
       "  If you're reading this message in the Jupyter Notebook or JupyterLab Notebook, it may mean\n",
       "  that the widgets JavaScript is still loading. If this message persists, it\n",
       "  likely means that the widgets JavaScript library is either not installed or\n",
       "  not enabled. See the <a href=\"https://ipywidgets.readthedocs.io/en/stable/user_install.html\">Jupyter\n",
       "  Widgets Documentation</a> for setup instructions.\n",
       "</p>\n",
       "<p>\n",
       "  If you're reading this message in another frontend (for example, a static\n",
       "  rendering on GitHub or <a href=\"https://nbviewer.jupyter.org/\">NBViewer</a>),\n",
       "  it may mean that your frontend doesn't currently support widgets.\n",
       "</p>\n"
      ],
      "text/plain": [
       "GraphWidget()"
      ]
     },
     "metadata": {},
     "output_type": "display_data"
    }
   ],
   "source": [
    "widget = GraphWidget()\n",
    "widget"
   ]
  },
  {
   "cell_type": "code",
   "execution_count": 12,
   "metadata": {},
   "outputs": [],
   "source": [
    "widget._graph = {'nodes': {\"1\": {\"group\": 9}, \"2\": {},\"3\": {},\"4\": {}}, 'links': [[1,2,{'value': 16}], [2,3], [3,1], [1,4]]}"
   ]
  },
  {
   "cell_type": "code",
   "execution_count": 4,
   "metadata": {},
   "outputs": [
    {
     "data": {
      "application/vnd.jupyter.widget-view+json": {
       "model_id": "a4ef4369ff884886816ca2bf0ff1cd03",
       "version_major": 2,
       "version_minor": 0
      },
      "text/html": [
       "<p>Failed to display Jupyter Widget of type <code>GraphWidget</code>.</p>\n",
       "<p>\n",
       "  If you're reading this message in the Jupyter Notebook or JupyterLab Notebook, it may mean\n",
       "  that the widgets JavaScript is still loading. If this message persists, it\n",
       "  likely means that the widgets JavaScript library is either not installed or\n",
       "  not enabled. See the <a href=\"https://ipywidgets.readthedocs.io/en/stable/user_install.html\">Jupyter\n",
       "  Widgets Documentation</a> for setup instructions.\n",
       "</p>\n",
       "<p>\n",
       "  If you're reading this message in another frontend (for example, a static\n",
       "  rendering on GitHub or <a href=\"https://nbviewer.jupyter.org/\">NBViewer</a>),\n",
       "  it may mean that your frontend doesn't currently support widgets.\n",
       "</p>\n"
      ],
      "text/plain": [
       "GraphWidget()"
      ]
     },
     "metadata": {},
     "output_type": "display_data"
    }
   ],
   "source": [
    "widget2 = GraphWidget()\n",
    "widget2"
   ]
  },
  {
   "cell_type": "code",
   "execution_count": 5,
   "metadata": {},
   "outputs": [],
   "source": [
    "widget2._graph = {'links': [[4,5], [6,7], [5,6], [7,8], [8,4]], 'nodes': {str(i): {} for i in [4,5,6,8,7]}}"
   ]
  },
  {
   "cell_type": "code",
   "execution_count": null,
   "metadata": {},
   "outputs": [],
   "source": []
  }
 ],
 "metadata": {
  "kernelspec": {
   "display_name": "Python 2",
   "language": "python",
   "name": "python2"
  },
  "language_info": {
   "codemirror_mode": {
    "name": "ipython",
    "version": 2
   },
   "file_extension": ".py",
   "mimetype": "text/x-python",
   "name": "python",
   "nbconvert_exporter": "python",
   "pygments_lexer": "ipython2",
   "version": "2.7.10"
  },
  "widgets": {
   "application/vnd.jupyter.widget-state+json": {
    "state": {
     "2e47b1318cd747579b9554bcce40b909": {
      "model_module": "aiidalab-widget-graph",
      "model_module_version": "^0.1.0",
      "model_name": "GraphModel",
      "state": {
       "_graph": {
        "links": [
         [
          1,
          2,
          {
           "value": 16
          }
         ],
         [
          2,
          3
         ],
         [
          3,
          1
         ],
         [
          1,
          4
         ]
        ],
        "nodes": {
         "1": {
          "group": 9
         },
         "2": {},
         "3": {},
         "4": {}
        }
       },
       "_model_module_version": "^0.1.0",
       "_view_module_version": "^0.1.0",
       "layout": "IPY_MODEL_b6f663fb46944ca0b14dd4d5c65860f4"
      }
     },
     "410ac23abe604c40bbc6a91021ff2d71": {
      "model_module": "@jupyter-widgets/base",
      "model_module_version": "1.0.0",
      "model_name": "LayoutModel",
      "state": {}
     },
     "4937f679881741efac4b4e7e9d9b5fed": {
      "model_module": "aiidalab-widget-graph",
      "model_module_version": "^0.1.0",
      "model_name": "GraphModel",
      "state": {
       "_graph": {
        "links": [
         [
          4,
          5
         ],
         [
          6,
          7
         ],
         [
          5,
          6
         ],
         [
          7,
          8
         ],
         [
          8,
          4
         ]
        ],
        "nodes": {
         "4": {},
         "5": {},
         "6": {},
         "7": {},
         "8": {}
        }
       },
       "_model_module_version": "^0.1.0",
       "_view_module_version": "^0.1.0",
       "layout": "IPY_MODEL_a68707ceda894823865023ad2edbd90d"
      }
     },
     "558ea44e16494e88b693c6e84508661a": {
      "model_module": "@jupyter-widgets/base",
      "model_module_version": "1.0.0",
      "model_name": "LayoutModel",
      "state": {}
     },
     "92c985c4d1b44f8c85aa96be42d91701": {
      "model_module": "aiidalab-widget-graph",
      "model_module_version": "^0.1.0",
      "model_name": "GraphModel",
      "state": {
       "_graph": {
        "links": [
         [
          1,
          2
         ],
         [
          2,
          3
         ],
         [
          3,
          1
         ],
         [
          1,
          4
         ]
        ],
        "nodes": [
         1,
         2,
         3,
         4
        ]
       },
       "_model_module_version": "^0.1.0",
       "_view_module_version": "^0.1.0",
       "layout": "IPY_MODEL_b530bc98dd4749a08cc35db3d4cdb32c"
      }
     },
     "a68707ceda894823865023ad2edbd90d": {
      "model_module": "@jupyter-widgets/base",
      "model_module_version": "1.0.0",
      "model_name": "LayoutModel",
      "state": {}
     },
     "a884da6796464e1ca638bcd9f873c949": {
      "model_module": "aiidalab-widget-graph",
      "model_module_version": "^0.1.0",
      "model_name": "GraphModel",
      "state": {
       "_graph": {
        "links": [
         [
          1,
          2
         ],
         [
          2,
          3
         ],
         [
          3,
          1
         ],
         [
          1,
          4
         ]
        ],
        "nodes": [
         1,
         2,
         3,
         4
        ]
       },
       "_model_module_version": "^0.1.0",
       "_view_module_version": "^0.1.0",
       "layout": "IPY_MODEL_b047e54b802d40d0998d8ed63e83ab79"
      }
     },
     "b047e54b802d40d0998d8ed63e83ab79": {
      "model_module": "@jupyter-widgets/base",
      "model_module_version": "1.0.0",
      "model_name": "LayoutModel",
      "state": {}
     },
     "b530bc98dd4749a08cc35db3d4cdb32c": {
      "model_module": "@jupyter-widgets/base",
      "model_module_version": "1.0.0",
      "model_name": "LayoutModel",
      "state": {}
     },
     "b6f663fb46944ca0b14dd4d5c65860f4": {
      "model_module": "@jupyter-widgets/base",
      "model_module_version": "1.0.0",
      "model_name": "LayoutModel",
      "state": {}
     },
     "c93c2fc55ee246f2b92087abb171f527": {
      "model_module": "aiidalab-widget-graph",
      "model_module_version": "^0.1.0",
      "model_name": "GraphModel",
      "state": {
       "_graph": {
        "links": [
         [
          1,
          2
         ],
         [
          2,
          3
         ],
         [
          3,
          1
         ],
         [
          1,
          4
         ]
        ],
        "nodes": [
         1,
         2,
         3,
         4
        ]
       },
       "_model_module_version": "^0.1.0",
       "_view_module_version": "^0.1.0",
       "layout": "IPY_MODEL_410ac23abe604c40bbc6a91021ff2d71"
      }
     },
     "cce388062e974e85bd1bb49d4c6e56d7": {
      "model_module": "aiidalab-widget-graph",
      "model_module_version": "^0.1.0",
      "model_name": "GraphModel",
      "state": {
       "_graph": {
        "links": [
         [
          4,
          5
         ],
         [
          6,
          7
         ],
         [
          5,
          6
         ],
         [
          7,
          8
         ],
         [
          8,
          4
         ]
        ],
        "nodes": [
         4,
         5,
         6,
         8,
         7
        ]
       },
       "_model_module_version": "^0.1.0",
       "_view_module_version": "^0.1.0",
       "layout": "IPY_MODEL_558ea44e16494e88b693c6e84508661a"
      }
     }
    },
    "version_major": 2,
    "version_minor": 0
   }
  }
 },
 "nbformat": 4,
 "nbformat_minor": 2
}
