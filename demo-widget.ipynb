{
 "cells": [
  {
   "cell_type": "markdown",
   "metadata": {},
   "source": [
    "# A first widget"
   ]
  },
  {
   "cell_type": "code",
   "execution_count": null,
   "metadata": {},
   "outputs": [],
   "source": [
    "from aiidalab_widget_graph import GraphWidget\n",
    "import time"
   ]
  },
  {
   "cell_type": "code",
   "execution_count": null,
   "metadata": {},
   "outputs": [],
   "source": [
    "widget = GraphWidget()\n",
    "widget"
   ]
  },
  {
   "cell_type": "markdown",
   "metadata": {},
   "source": [
    "## Create the basic graph"
   ]
  },
  {
   "cell_type": "code",
   "execution_count": null,
   "metadata": {},
   "outputs": [],
   "source": [
    "widget.clean()\n",
    "widget.update_graph()\n",
    "for node in range(1,5):\n",
    "    widget.add_node(str(node), {\n",
    "    'fillColor': GraphWidget._scheme_category_10[node]})\n",
    "\n",
    "for link in [[1,2], [2,3], [3,1]]:     \n",
    "    widget.add_link(str(link[0]), str(link[1]))\n",
    "widget.add_link(str(1),str(4),{'value': 16})\n",
    "#widget.add_link(str(1),str(2), {'value': 8})\n",
    "widget.add_link_meta(str(1),str(2), 'value', 8)\n",
    "\n",
    "widget.update_graph()"
   ]
  },
  {
   "cell_type": "markdown",
   "metadata": {},
   "source": [
    "## Edit the graph"
   ]
  },
  {
   "cell_type": "markdown",
   "metadata": {},
   "source": [
    "Make the link 1-2 thin (default) again"
   ]
  },
  {
   "cell_type": "code",
   "execution_count": null,
   "metadata": {},
   "outputs": [],
   "source": [
    "widget.remove_link_meta(str(1),str(2), 'value')\n",
    "widget.update_graph()"
   ]
  },
  {
   "cell_type": "markdown",
   "metadata": {},
   "source": [
    "Change the fill color of node 2"
   ]
  },
  {
   "cell_type": "code",
   "execution_count": null,
   "metadata": {},
   "outputs": [],
   "source": [
    "widget.add_node('2', {'fillColor': GraphWidget._scheme_category_10[9]})\n",
    "widget.update_graph()"
   ]
  },
  {
   "cell_type": "markdown",
   "metadata": {},
   "source": [
    "Increase the radius of node 2"
   ]
  },
  {
   "cell_type": "code",
   "execution_count": null,
   "metadata": {},
   "outputs": [],
   "source": [
    "widget.add_node_meta('2', 'radius', 10)\n",
    "widget.update_graph()"
   ]
  },
  {
   "cell_type": "markdown",
   "metadata": {},
   "source": [
    "Remove the fill color property of node 2 (go to the default gray color)"
   ]
  },
  {
   "cell_type": "code",
   "execution_count": null,
   "metadata": {},
   "outputs": [],
   "source": [
    "widget.remove_node_meta('2', 'fillColor')\n",
    "widget.update_graph()"
   ]
  },
  {
   "cell_type": "markdown",
   "metadata": {},
   "source": [
    "Change it back to a different color"
   ]
  },
  {
   "cell_type": "code",
   "execution_count": null,
   "metadata": {},
   "outputs": [],
   "source": [
    "widget.add_node_meta('2', 'fillColor', GraphWidget._scheme_category_10[4])\n",
    "widget.update_graph()"
   ]
  },
  {
   "cell_type": "markdown",
   "metadata": {},
   "source": [
    "Add some title to node 2"
   ]
  },
  {
   "cell_type": "code",
   "execution_count": null,
   "metadata": {},
   "outputs": [],
   "source": [
    "widget.add_node_meta('2', 'title', \"Some title\")\n",
    "widget.update_graph()"
   ]
  },
  {
   "cell_type": "markdown",
   "metadata": {},
   "source": [
    "# A different, independent widget"
   ]
  },
  {
   "cell_type": "markdown",
   "metadata": {},
   "source": [
    "Create a new widget and verify it is independent"
   ]
  },
  {
   "cell_type": "code",
   "execution_count": null,
   "metadata": {},
   "outputs": [],
   "source": [
    "widget2 = GraphWidget()\n",
    "widget2"
   ]
  },
  {
   "cell_type": "code",
   "execution_count": null,
   "metadata": {},
   "outputs": [],
   "source": [
    "for node in [4,5,6,8,7]:\n",
    "    widget2.add_node(str(node), {})\n",
    "\n",
    "for link in  [[4,5], [6,7], [5,6], [7,8], [8,4]]:\n",
    "    widget2.add_link(str(link[0]), str(link[1]))\n",
    "widget2.update_graph()"
   ]
  },
  {
   "cell_type": "code",
   "execution_count": null,
   "metadata": {},
   "outputs": [],
   "source": []
  },
  {
   "cell_type": "code",
   "execution_count": null,
   "metadata": {},
   "outputs": [],
   "source": []
  }
 ],
 "metadata": {
  "kernelspec": {
   "display_name": "Python 2",
   "language": "python",
   "name": "python2"
  },
  "language_info": {
   "codemirror_mode": {
    "name": "ipython",
    "version": 2
   },
   "file_extension": ".py",
   "mimetype": "text/x-python",
   "name": "python",
   "nbconvert_exporter": "python",
   "pygments_lexer": "ipython2",
   "version": "2.7.10"
  },
  "widgets": {
   "application/vnd.jupyter.widget-state+json": {
    "state": {
     "2e47b1318cd747579b9554bcce40b909": {
      "model_module": "aiidalab-widget-graph",
      "model_module_version": "^0.1.0",
      "model_name": "GraphModel",
      "state": {
       "_graph": {
        "links": [
         [
          1,
          2,
          {
           "value": 16
          }
         ],
         [
          2,
          3
         ],
         [
          3,
          1
         ],
         [
          1,
          4
         ]
        ],
        "nodes": {
         "1": {
          "group": 9
         },
         "2": {},
         "3": {},
         "4": {}
        }
       },
       "_model_module_version": "^0.1.0",
       "_view_module_version": "^0.1.0",
       "layout": "IPY_MODEL_b6f663fb46944ca0b14dd4d5c65860f4"
      }
     },
     "410ac23abe604c40bbc6a91021ff2d71": {
      "model_module": "@jupyter-widgets/base",
      "model_module_version": "1.0.0",
      "model_name": "LayoutModel",
      "state": {}
     },
     "4937f679881741efac4b4e7e9d9b5fed": {
      "model_module": "aiidalab-widget-graph",
      "model_module_version": "^0.1.0",
      "model_name": "GraphModel",
      "state": {
       "_graph": {
        "links": [
         [
          4,
          5
         ],
         [
          6,
          7
         ],
         [
          5,
          6
         ],
         [
          7,
          8
         ],
         [
          8,
          4
         ]
        ],
        "nodes": {
         "4": {},
         "5": {},
         "6": {},
         "7": {},
         "8": {}
        }
       },
       "_model_module_version": "^0.1.0",
       "_view_module_version": "^0.1.0",
       "layout": "IPY_MODEL_a68707ceda894823865023ad2edbd90d"
      }
     },
     "558ea44e16494e88b693c6e84508661a": {
      "model_module": "@jupyter-widgets/base",
      "model_module_version": "1.0.0",
      "model_name": "LayoutModel",
      "state": {}
     },
     "92c985c4d1b44f8c85aa96be42d91701": {
      "model_module": "aiidalab-widget-graph",
      "model_module_version": "^0.1.0",
      "model_name": "GraphModel",
      "state": {
       "_graph": {
        "links": [
         [
          1,
          2
         ],
         [
          2,
          3
         ],
         [
          3,
          1
         ],
         [
          1,
          4
         ]
        ],
        "nodes": [
         1,
         2,
         3,
         4
        ]
       },
       "_model_module_version": "^0.1.0",
       "_view_module_version": "^0.1.0",
       "layout": "IPY_MODEL_b530bc98dd4749a08cc35db3d4cdb32c"
      }
     },
     "a68707ceda894823865023ad2edbd90d": {
      "model_module": "@jupyter-widgets/base",
      "model_module_version": "1.0.0",
      "model_name": "LayoutModel",
      "state": {}
     },
     "a884da6796464e1ca638bcd9f873c949": {
      "model_module": "aiidalab-widget-graph",
      "model_module_version": "^0.1.0",
      "model_name": "GraphModel",
      "state": {
       "_graph": {
        "links": [
         [
          1,
          2
         ],
         [
          2,
          3
         ],
         [
          3,
          1
         ],
         [
          1,
          4
         ]
        ],
        "nodes": [
         1,
         2,
         3,
         4
        ]
       },
       "_model_module_version": "^0.1.0",
       "_view_module_version": "^0.1.0",
       "layout": "IPY_MODEL_b047e54b802d40d0998d8ed63e83ab79"
      }
     },
     "b047e54b802d40d0998d8ed63e83ab79": {
      "model_module": "@jupyter-widgets/base",
      "model_module_version": "1.0.0",
      "model_name": "LayoutModel",
      "state": {}
     },
     "b530bc98dd4749a08cc35db3d4cdb32c": {
      "model_module": "@jupyter-widgets/base",
      "model_module_version": "1.0.0",
      "model_name": "LayoutModel",
      "state": {}
     },
     "b6f663fb46944ca0b14dd4d5c65860f4": {
      "model_module": "@jupyter-widgets/base",
      "model_module_version": "1.0.0",
      "model_name": "LayoutModel",
      "state": {}
     },
     "c93c2fc55ee246f2b92087abb171f527": {
      "model_module": "aiidalab-widget-graph",
      "model_module_version": "^0.1.0",
      "model_name": "GraphModel",
      "state": {
       "_graph": {
        "links": [
         [
          1,
          2
         ],
         [
          2,
          3
         ],
         [
          3,
          1
         ],
         [
          1,
          4
         ]
        ],
        "nodes": [
         1,
         2,
         3,
         4
        ]
       },
       "_model_module_version": "^0.1.0",
       "_view_module_version": "^0.1.0",
       "layout": "IPY_MODEL_410ac23abe604c40bbc6a91021ff2d71"
      }
     },
     "cce388062e974e85bd1bb49d4c6e56d7": {
      "model_module": "aiidalab-widget-graph",
      "model_module_version": "^0.1.0",
      "model_name": "GraphModel",
      "state": {
       "_graph": {
        "links": [
         [
          4,
          5
         ],
         [
          6,
          7
         ],
         [
          5,
          6
         ],
         [
          7,
          8
         ],
         [
          8,
          4
         ]
        ],
        "nodes": [
         4,
         5,
         6,
         8,
         7
        ]
       },
       "_model_module_version": "^0.1.0",
       "_view_module_version": "^0.1.0",
       "layout": "IPY_MODEL_558ea44e16494e88b693c6e84508661a"
      }
     }
    },
    "version_major": 2,
    "version_minor": 0
   }
  }
 },
 "nbformat": 4,
 "nbformat_minor": 2
}
